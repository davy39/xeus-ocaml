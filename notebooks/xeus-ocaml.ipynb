{
 "cells": [
  {
   "cell_type": "markdown",
   "metadata": {},
   "source": [
    "<center>\n",
    "    <h1>ocaml kernel based on xeus</h1>\n",
    "</center>"
   ]
  },
  {
   "cell_type": "markdown",
   "metadata": {},
   "source": [
    "# Simple code execution"
   ]
  },
  {
   "cell_type": "code",
   "execution_count": null,
   "metadata": {},
   "outputs": [],
   "source": [
    "a = 3"
   ]
  }
 ],
 "metadata": {
  "kernelspec": {
   "display_name": "Python 5.3.0 (xocaml)",
   "language": "text/x-ocaml",
   "name": "xocaml"
  },
  "language_info": {
   "file_extension": "ml",
   "mimetype": "text/x-ocaml",
   "name": "xocaml",
   "version": "5.3.0"
  }
 },
 "nbformat": 4,
 "nbformat_minor": 4
}
